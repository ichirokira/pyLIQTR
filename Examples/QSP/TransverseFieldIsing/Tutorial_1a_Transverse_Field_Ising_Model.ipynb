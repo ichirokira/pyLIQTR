{
 "cells": [
  {
   "cell_type": "markdown",
   "id": "9095b0e3",
   "metadata": {},
   "source": [
    "<h1>Example: Transverse Field Ising Model</h1>\n",
    "<hr>\n",
    "DISTRIBUTION STATEMENT A. Approved for public release. Distribution is unlimited.\n",
    "\n",
    "This material is based upon work supported by the Under Secretary of Defense for\n",
    "Research and Engineering under Air Force Contract No. FA8702-15-D-0001. Any opinions,\n",
    "findings, conclusions or recommendations expressed in this material are those of the\n",
    "author(s) and do not necessarily reflect the views of the Under Secretary of Defense\n",
    "for Research and Engineering.\n",
    "\n",
    "© 2023 Massachusetts Institute of Technology.\n",
    "\n",
    "The software/firmware is provided to you on an As-Is basis\n",
    "\n",
    "Delivered to the U.S. Government with Unlimited Rights, as defined in DFARS Part\n",
    "252.227-7013 or 7014 (Feb 2014). Notwithstanding any copyright notice, U.S. Government\n",
    "rights in this work are defined by DFARS 252.227-7013 or DFARS 252.227-7014 as detailed\n",
    "above. Use of this work other than as specifically authorized by the U.S. Government\n",
    "may violate any copyrights that exist in this work."
   ]
  },
  {
   "cell_type": "code",
   "execution_count": 1,
   "id": "e12e3a8c",
   "metadata": {},
   "outputs": [],
   "source": [
    "\n",
    "###\n",
    "### General imports\n",
    "###\n",
    "\n",
    "#import time\n",
    "\n",
    "import numpy              as np\n",
    "import numpy.linalg       as la\n",
    "import scipy.integrate    as spi\n",
    "import matplotlib.pyplot  as plt\n",
    "\n",
    "\n",
    "###\n",
    "### Operator simulation & Hamiltonian\n",
    "### preperation imports\n",
    "###\n",
    "from pyLIQTR.sim_methods.simqsp             import SimQSP\n",
    "import pyLIQTR.sim_methods.quantum_ops        as     qops    \n",
    "\n",
    "\n",
    "###\n",
    "### Ploting and text output settings\n",
    "###\n",
    "\n",
    "np.set_printoptions(precision=2)\n",
    "\n"
   ]
  },
  {
   "cell_type": "markdown",
   "id": "066dd9b8",
   "metadata": {},
   "source": [
    "<hr>\n",
    "The `pyLIQTR` suite can handle quantum simualtion  for any $k$-local Hamiltonian that is specified in terms of Pauli strings.  These models can be mapped onto some variant of a Heisenberg Hamiltonian,\n",
    "\n",
    "\n",
    "\\begin{equation}\n",
    "H =  \\sum_{\\langle j,k \\rangle} \\left[ J^x_{j,k} (X_{j} \\otimes X_{k}) + J^y_{j,k}  (Y_j \\otimes Y_{k}) + \n",
    "J^z_{j,k} (Z_j  \\otimes  Z_{k}) \\right] + \n",
    "\\sum_j \\left[ h^{x}_j X_j + h^{y}_j Y_j +  h^{z}_j Z_j \\right], \n",
    "\\end{equation}\n",
    "\n",
    "where $\\{X_j, Y_j, Z_j\\}$ are Pauli spin operators acting on site (vertex) $j$ of some lattice (graph).  This construction assumes that there is a single spin at each lattice site (vertex), with the notation $\\langle j,k \\rangle$ used to denote a summation over  pairs of these sites.  It is immediately clear that there are two key components to this model: a set of pairwise couplings (e.g., $X_{j} \\otimes X_{k}$) between spins on sites $j$ and $k$, and a set of local fields  (e.g., $X_j$) at each spin site. The real constants $J^{x (y,z)}_{j,k}$ and $h^{x (y,z)}_j$ reflect the strengths of these interactions.  A slightly more subtle $-$ but equally important $-$ fact is that these pairwise interactions can be defined for a system of any spatial dimensionality or lattice geometry.\n",
    "\n",
    "In this notebook, we will consider an especially interesting 1-$d$ limit of the Heisenberg Hamiltonian, which has only a homogeneous $z$-coupling  and local $z$- and $x$-fields.  This <i>Transverse-Field Ising Model</i> serves as a prototype for a broad range of physics, including quantum phase transitions, non-interacting Fermions, and integrable spin systems.\n",
    "\n",
    "<h2><u>Transverse-Field Ising Model</u></h2>\n",
    "<h3>Background</h3>\n",
    "The one-dimensional transverse-field Ising model (TFIM) has a rich phase diagram,  which includes a distinctive quantum phase transition (QPT) between ordered and disordered regimes.  This system is described by the Hamiltonian,\n",
    "\n",
    "\n",
    "\\begin{equation}\n",
    "H = \\sum_{j=0}^{N-1}  J^z \\left(Z_j  \\otimes  Z_{j+1}\\right)  +  \\sum_{j=0}^N \\left(h^x X_j + g^x Z_j\\right),\n",
    "\\end{equation}\n",
    "\n",
    "which is integrable when either $h^x = 0$ or $h^z = 0$ (but not both simultaneously).  It should be noted that some authors adopt the term \"tilted-field\" for the above case, while reserving  \"transverse-field\" for the $h^z = 0$ limit alone.  This integrability has facilitated an extensive characterization, leading the TFIM to become a  textbook-level prototype for QPT phenomena.  Moreover, a two-dimensional variant of this model with inhomogeneous couplings and fields can describe the current generation of quantum annealing platforms, though this requires a parametric scaling of the $X$ (decreasing) and $Z$ (increasing) containing terms during the adiabatic evolution. While significant in its own right, the TFIM is just a limit of the Heisenberg Hamiltonian without $Y$ fields or $XX$ / $YY$ coupling.\n",
    "\n",
    "\n",
    "For spin-1/2 systems the sign of $J^z$ determines if ferromagnetic ($J^z < 0$) or antiferromagnetic  ($J^z > 0$) order will be present.  This model exhibits interesting features aside from its integrability, including a $\\mathbb{Z}_2$ symmetry associated with flipping the $z$ component of every spin within the lattice (<i>i.e.</i>, via the operation $\\mathcal{X} = \\bigotimes_{j=0}^N X_j$, which commutes with $H$).  When $h^x = 0$ the ground state corresponds to a pair of degenerate broken symmetry configurations, irrespective of the spin-spin coupling:\n",
    "\n",
    "\n",
    "\\begin{equation}\n",
    "\\psi_0 \\sim \\begin{cases}\n",
    "|\\uparrow \\uparrow \\dots \\uparrow \\uparrow \\rangle  \\,\\,\\, \\text{or} \\,\\,\\, |\\downarrow \\downarrow \\dots \\downarrow \\downarrow \\rangle & \\text{when} \\,\\,\\, J < 0 \\\\\n",
    "|\\uparrow \\downarrow \\dots \\uparrow \\downarrow \\rangle  \\,\\,\\, \\text{or} \\,\\,\\, |\\downarrow \\uparrow \\dots \\downarrow \\uparrow \\rangle & \\text{when} \\,\\,\\, J > 0.\n",
    "\\end{cases}\n",
    "\\end{equation}\n",
    "\n",
    "The TFIM also has a one-to-one correspondence  between ferromagnetic and antiferromagnetic orders, giving an identical phase diagram for either sign of  $J^z$. \n",
    "\n",
    "The presence of noncommuting operators $[X,Z] \\neq 0$ is what delivers a distinctly quantum flavor.  Notably, as $|h^x| \\rightarrow \\infty$, we find that the ground state $\\psi_0$ approaches either the state $\\mid\\rightarrow\\rangle = 2^{-N}\\bigotimes_{j=0}^N (\\mid\\uparrow\\rangle + \\mid\\downarrow\\rangle)$ or the state $\\mid\\leftarrow\\rangle = 2^{-N}\\bigotimes_{j=0}^N (\\mid\\uparrow\\rangle - \\mid\\downarrow\\rangle)$ depending on the sign of $h^x$.  These are invariant under the action of $\\mathcal{X}$, implying a nondegenerate state with unbroken symmetry.  The ratio $\\mid h^x / J^z \\mid$ quantifies scaling between these regimes, with our promised quantum critical point separating them when $\\mid h^x / J^z \\mid = 1$.\n",
    "\n",
    "We will now describe how to perform quantum simulations of an antiferromagnetic TFIM in this quantum critical regime. \n",
    "\n",
    "<i><b>Note:</b></i> The number of spins $N$ will define the quantum computational scale of our problem.  While the quantum critical regime is integrable $-$ and thus simulatable in polynomial time using specific methods $-$ the TFIM is non-integrable for most parameter choices and remains classically challenging.  This means that our hardness and resource overheaed are formally independent of the fields and couplings, though the latter can define special cases where the problem becomes classically  tractable.\n",
    "\n",
    "<h3>Generating the TFIM Hamiltonian</h3>\n",
    "We begin by defining the Hamiltonian for an $N = 4$ site antiferromagnetic TFIM with $\\mid h^x / J^z\\mid = 1$, though $N$ can be increased to generate more challenging instances.  This quantum critical regime is specified as:"
   ]
  },
  {
   "cell_type": "code",
   "execution_count": 2,
   "id": "6048c746",
   "metadata": {},
   "outputs": [],
   "source": [
    "\n",
    "N    =   4;        J_z  =   1.0;          h_x  =  -1.0\n"
   ]
  },
  {
   "cell_type": "markdown",
   "id": "b4950ae1",
   "metadata": {},
   "source": [
    " PyLIQTR provides a `params_heisenberg_1d` method within the `quantum_ops` module.  This routine can generate inpupt parameter sets for a range of Heisenberg-type models:"
   ]
  },
  {
   "cell_type": "code",
   "execution_count": 3,
   "id": "68293b58",
   "metadata": {},
   "outputs": [],
   "source": [
    "\n",
    "tuples,types,coeffs = qops.params_heisenberg_1d(N,J_z=J_z,h_x=h_x,periodic=False)\n"
   ]
  },
  {
   "cell_type": "markdown",
   "id": "0174fd84",
   "metadata": {},
   "source": [
    "Note that there is also an optional keyword argument `periodic` which allows us to generate a Hamiltonian with periodic boundary conditions. The returned objects describe this Hamiltonian: `tuples` enumerates the lattice sites which are coupled,  `types` describes the nature of these couplings, and the corresponding coefficients are placed into `coeffs`.  For this example:\n"
   ]
  },
  {
   "cell_type": "code",
   "execution_count": 4,
   "id": "8674ac71",
   "metadata": {},
   "outputs": [
    {
     "name": "stdout",
     "output_type": "stream",
     "text": [
      "\n",
      "Sites     \t Type \t\t Coefficient\n",
      "-------------------------------------------------- \n",
      "\n",
      "(0, 1) \t\t ZZ \t\t 1.0\n",
      "(1, 2) \t\t ZZ \t\t 1.0\n",
      "(2, 3) \t\t ZZ \t\t 1.0\n",
      "0 \t\t X \t\t -1.0\n",
      "1 \t\t X \t\t -1.0\n",
      "2 \t\t X \t\t -1.0\n",
      "3 \t\t X \t\t -1.0\n",
      "\n"
     ]
    }
   ],
   "source": [
    "\n",
    "print(\"\\nSites     \\t Type \\t\\t Coefficient\\n\",end=\"\")\n",
    "print(\"-\"*50,\"\\n\")\n",
    "for j in range(len(tuples)):\n",
    "    print(tuples[j],\"\\t\\t\", types[j], \"\\t\\t\", coeffs[j])\n",
    "print(\"\")\n"
   ]
  },
  {
   "cell_type": "markdown",
   "id": "e7b7b0f7",
   "metadata": {},
   "source": [
    "which corresponds to the four-site TFIM Hamiltonian:\n",
    "\n",
    "\n",
    "\\begin{split}\n",
    "H &= \\sum_{j=0}^{2} \\left[ J^z_{j} (Z_j  \\otimes  Z_{j+1}) \\right] +  \\sum_{j=0}^3 h_j Z_j \\\\\n",
    "& = (Z_0 \\otimes Z_1 + Z_1 \\otimes Z_2 + Z_2 \\otimes Z_3) - (X_0 + X_1 + X_2 + X_3)\n",
    "\\end{split}\n"
   ]
  },
  {
   "cell_type": "markdown",
   "id": "07664c7a",
   "metadata": {},
   "source": [
    "<i><b>Generating Pauli Strings<b></i>\n",
    "    \n",
    "The circuit preparation routines in `pyLIQTR` require that we specify Pauli strings as input. An isolated set of these can be produced by passing the preceding output the `ps_text_full_set` function:"
   ]
  },
  {
   "cell_type": "code",
   "execution_count": 5,
   "id": "035483f4",
   "metadata": {},
   "outputs": [],
   "source": [
    "\n",
    "tuples_full = qops.ps_text_full_set(tuples,types,N)\n"
   ]
  },
  {
   "cell_type": "code",
   "execution_count": 6,
   "id": "9d01a770",
   "metadata": {},
   "outputs": [
    {
     "name": "stdout",
     "output_type": "stream",
     "text": [
      "\n",
      "Strings     \n",
      "-------------------------------------------------- \n",
      "\n",
      "ZZII\n",
      "IZZI\n",
      "IIZZ\n",
      "XIII\n",
      "IXII\n",
      "IIXI\n",
      "IIIX\n",
      "\n"
     ]
    }
   ],
   "source": [
    "print(\"\\nStrings     \\n\",end=\"\")\n",
    "print(\"-\"*50,\"\\n\")\n",
    "for j in range(len(tuples)):\n",
    "    print(tuples_full[j])\n",
    "print(\"\")"
   ]
  },
  {
   "cell_type": "markdown",
   "id": "e67853d1",
   "metadata": {},
   "source": [
    "\n",
    "Conspicuously absent are numerical values for the couplings and fields, which will also be to generate circuits.  We can generate more pertinent output by passing the coefficients as a keyword argument to `ps_text_full_set`:\n"
   ]
  },
  {
   "cell_type": "code",
   "execution_count": 7,
   "id": "57a34812",
   "metadata": {},
   "outputs": [
    {
     "data": {
      "text/plain": [
       "[('ZZII', 1.0),\n",
       " ('IZZI', 1.0),\n",
       " ('IIZZ', 1.0),\n",
       " ('XIII', -1.0),\n",
       " ('IXII', -1.0),\n",
       " ('IIXI', -1.0),\n",
       " ('IIIX', -1.0)]"
      ]
     },
     "execution_count": 7,
     "metadata": {},
     "output_type": "execute_result"
    }
   ],
   "source": [
    "\n",
    "ham_strings = qops.ps_text_full_set(tuples,types,N,Coeffs=coeffs)\n",
    "ham_strings\n"
   ]
  },
  {
   "cell_type": "markdown",
   "id": "8c956ac7",
   "metadata": {},
   "source": [
    "The resulting array of tuples can be used directly with `pyLIQTR`'s circuit generation code.\n",
    "\n",
    "<b><i>Generating a Hamiltonian Matrix</i></b>\n",
    "\n",
    "The Pauli string tuples can also be used to generate a matrix representation of the Hamiltonian, which is particularly useful for classical reference simulations.  This is accomplished by invoking  the `ham_from_pauli_tuples` routine:"
   ]
  },
  {
   "cell_type": "code",
   "execution_count": 8,
   "id": "ba79cf8a",
   "metadata": {},
   "outputs": [],
   "source": [
    "\n",
    "H = qops.ham_from_pauli_tuples(tuples,types,coeffs,N)\n"
   ]
  },
  {
   "cell_type": "markdown",
   "id": "328d2d3d",
   "metadata": {},
   "source": [
    "<h3>Classical Simulation</h3>"
   ]
  },
  {
   "cell_type": "markdown",
   "id": "3c4f8bed",
   "metadata": {},
   "source": [
    "\n",
    "Although our goal is to generate circuits for quantum simulation, it is helpful to have some classical reference values on hand as a sanity check.  To this end, we can use the Hamitonian matrix $H$ that was generated by `ham_from_pauli_tuples` to numerically integrate the TFIM following a field quench.  We begin by setting some initial parameters:"
   ]
  },
  {
   "cell_type": "code",
   "execution_count": 9,
   "id": "1626f5fe",
   "metadata": {},
   "outputs": [],
   "source": [
    "\n",
    "N             =  4\n",
    "\n",
    "dt            =  0.05                            # Integration timestep, Decrease this \n",
    "                                                 #   if you'd like a finer grain simulation\n",
    "tmax          =  16.0                            # Maximal timestep\n",
    "sclf          =  1                               # Scale factor for timestep sampling\n",
    "N_ts          =  int(np.ceil(tmax/dt))           # Total number of timesteps\n",
    "timestep_vec  =  np.arange(0,tmax+dt,sclf*dt)    # Define array of timesteps\n"
   ]
  },
  {
   "cell_type": "markdown",
   "id": "a94d836a",
   "metadata": {},
   "source": [
    "Next, we build up the initial wavefunction as a spin-up product state $\\mid\\psi_0\\rangle = \\bigotimes_{j=0}^{N-1} \\mid \\uparrow\\rangle$ so that:"
   ]
  },
  {
   "cell_type": "code",
   "execution_count": 10,
   "id": "b50cce48",
   "metadata": {},
   "outputs": [],
   "source": [
    "\n",
    "psi0 = qops.multikron([qops.sz_u]*N)             # Generate the wavefunction as a \n",
    "psi0 = psi0 / la.norm(psi0)                      # Kronecker product and normalize it.\n",
    "\n",
    "psi0_vec = qops.vectorize_cvec(psi0)             # Vectorize the initial wavefunction\n"
   ]
  },
  {
   "cell_type": "markdown",
   "id": "bddb841a",
   "metadata": {},
   "source": [
    "\n",
    "We can verify the local expectation value of $Z_j$ on each site of the lattice:\n"
   ]
  },
  {
   "cell_type": "code",
   "execution_count": 11,
   "id": "1875440c",
   "metadata": {},
   "outputs": [
    {
     "name": "stdout",
     "output_type": "stream",
     "text": [
      "[1. 1. 1. 1.]\n"
     ]
    }
   ],
   "source": [
    "\n",
    "print(qops.measure_obs_site(psi0,qops.pz).real)\n"
   ]
  },
  {
   "cell_type": "markdown",
   "id": "76daeb73",
   "metadata": {},
   "source": [
    "The derivative $\\partial_t \\mid\\psi\\rangle = -\\imath H \\mid \\psi\\rangle$ is given by the function `prop_wfn` in the `quantum_ops` module.  This allows us to use ODEPACK methods to integrate the wavefunction: "
   ]
  },
  {
   "cell_type": "code",
   "execution_count": 12,
   "id": "687f2086",
   "metadata": {},
   "outputs": [],
   "source": [
    "\n",
    "traj_raw_wfn = spi.odeint(qops.prop_wfn,psi0_vec,timestep_vec,args=(H,),atol=1e-16)\n"
   ]
  },
  {
   "cell_type": "markdown",
   "id": "7eec2490",
   "metadata": {},
   "source": [
    "There is also a method `parse_wfn_traj` which can evaluate a single qubit observable on every qubit for every timestep in the trajectory (or, alternatively, an N-qubit observable for every timestep).  We evaluate this for the spin-up projector `przp` $= (1 + Z)/2$:"
   ]
  },
  {
   "cell_type": "code",
   "execution_count": 13,
   "id": "d550cafc",
   "metadata": {},
   "outputs": [],
   "source": [
    "\n",
    "traj_proc_wfn = qops.parse_wfn_traj(timestep_vec,traj_raw_wfn,qops.przp)\n",
    "\n",
    "obs_reference = traj_proc_wfn[:,1:(N+1)].real"
   ]
  },
  {
   "cell_type": "markdown",
   "id": "d92887bc",
   "metadata": {},
   "source": [
    "Finally, we plot the time evolution of our observable:"
   ]
  },
  {
   "cell_type": "code",
   "execution_count": 14,
   "id": "189fb41d",
   "metadata": {},
   "outputs": [
    {
     "data": {
      "image/png": "[encoded data removed]",
      "text/plain": [
       "<Figure size 432x288 with 1 Axes>"
      ]
     },
     "metadata": {
      "needs_background": "light"
     },
     "output_type": "display_data"
    }
   ],
   "source": [
    "\n",
    "N_ticks = 8\n",
    "\n",
    "aspect = 1/0.05\n",
    "\n",
    "plt.imshow(np.transpose(obs_reference),\n",
    "           cmap='viridis', interpolation='nearest', aspect=aspect)\n",
    "plt.xlabel('Timestep',fontsize=14)\n",
    "plt.ylabel('Spin Site',fontsize=14)\n",
    "plt.title('Spin-Up Projection',fontsize=14)\n",
    "\n",
    "\n",
    "plt.xticks(np.arange(0,N_ts+1,N_ts/N_ticks),labels=np.arange(0,tmax+dt,int(tmax/N_ticks)))\n",
    "plt.show()\n"
   ]
  },
  {
   "cell_type": "markdown",
   "id": "e8cfdf9e",
   "metadata": {},
   "source": [
    "The mean spin projection at each timepoint should immediately look  familiar to anyone who has studied this model:"
   ]
  },
  {
   "cell_type": "code",
   "execution_count": 15,
   "id": "074e6c24",
   "metadata": {},
   "outputs": [
    {
     "data": {
      "image/png": "[encoded data removed]",
      "text/plain": [
       "<Figure size 432x288 with 1 Axes>"
      ]
     },
     "metadata": {
      "needs_background": "light"
     },
     "output_type": "display_data"
    }
   ],
   "source": [
    "\n",
    "prpz_mean_data = np.mean(np.transpose(obs_reference),0)\n",
    "xvec           = np.linspace(0,16,num=len(prpz_mean_data))\n",
    "\n",
    "plt.plot(xvec,prpz_mean_data,linewidth=3,color='k')\n",
    "plt.legend([\"$P_z$\",\"QSP\"],fontsize=11)\n",
    "plt.tick_params(axis='both',which='both',direction='in')\n",
    "plt.xlabel('Simulation Time  [ $1/J$ ]',fontsize=11)\n",
    "plt.ylabel('Z Spin Projection',fontsize=11)\n",
    "plt.title('TFIM @ Quantum Criticality   $[h^z / J = 1]$',fontsize=11)\n",
    "plt.grid()\n"
   ]
  },
  {
   "cell_type": "code",
   "execution_count": null,
   "id": "8f7cdef0",
   "metadata": {},
   "outputs": [],
   "source": []
  }
 ],
 "metadata": {
  "kernelspec": {
   "display_name": "Python 3 (ipykernel)",
   "language": "python",
   "name": "python3"
  },
  "language_info": {
   "codemirror_mode": {
    "name": "ipython",
    "version": 3
   },
   "file_extension": ".py",
   "mimetype": "text/x-python",
   "name": "python",
   "nbconvert_exporter": "python",
   "pygments_lexer": "ipython3",
   "version": "3.8.16"
  }
 },
 "nbformat": 4,
 "nbformat_minor": 5
}
