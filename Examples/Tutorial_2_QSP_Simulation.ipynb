{
 "cells": [
  {
   "cell_type": "markdown",
   "id": "ce657bfc",
   "metadata": {},
   "source": [
    "<h1>Performing Hamiltonian Simulation with QSP-Generated Quantum Circuit</h1>\n",
    "\n",
    "<h2> Distribution Statement </h2>\n",
    "\n",
    "DISTRIBUTION STATEMENT A. Approved for public release. Distribution is unlimited.\n",
    "\n",
    "<br>\n",
    "This material is based upon work supported by the Under Secretary of Defense for\n",
    "Research and Engineering under Air Force Contract No. FA8702-15-D-0001. Any opinions,\n",
    "findings, conclusions or recommendations expressed in this material are those of the\n",
    "author(s) and do not necessarily reflect the views of the Under Secretary of Defense\n",
    "for Research and Engineering.\n",
    "\n",
    "<br>\n",
    "© 2022 Massachusetts Institute of Technology.\n",
    "\n",
    "<br>\n",
    "<br>\n",
    "The software/firmware is provided to you on an As-Is basis\n",
    "\n",
    "<br>\n",
    "<br>\n",
    "Delivered to the U.S. Government with Unlimited Rights, as defined in DFARS Part\n",
    "252.227-7013 or 7014 (Feb 2014). Notwithstanding any copyright notice, U.S. Government\n",
    "rights in this work are defined by DFARS 252.227-7013 or DFARS 252.227-7014 as detailed\n",
    "above. Use of this work other than as specifically authorized by the U.S. Government\n",
    "may violate any copyrights that exist in this work."
   ]
  },
  {
   "cell_type": "markdown",
   "id": "a8d66bd7",
   "metadata": {},
   "source": [
    "This notebook describes how to perform Hamiltonian simulation with a Quantum Signal Processing (QSP) generated quantum circuit. To confirm that the quantum circuit is performing the simulation to the requested precision, the results are compared to those of a classical approach.\n",
    "\n",
    "For this notebook a Hamiltonain derived from the Vlasov Equation is used. For more information on framing the Vlasov equation as a quantum algorithms problem please see accompanying notebooks."
   ]
  },
  {
   "cell_type": "code",
   "execution_count": 1,
   "id": "8bf62e1d",
   "metadata": {},
   "outputs": [],
   "source": [
    "### \n",
    "### Publicly Available Libraries:\n",
    "###\n",
    "import sys\n",
    "import os\n",
    "import cirq\n",
    "import numpy             as np\n",
    "import numpy.linalg      as la\n",
    "import scipy.integrate   as spi\n",
    "import matplotlib.pyplot as plt\n",
    "import time\n",
    "\n",
    "\n",
    "###\n",
    "### Imports to support the pyQSP Gate-Based simulation\n",
    "###\n",
    "from pyLIQTR.QSP import gen_qsp                 as qspFuncs\n",
    "from pyLIQTR.QSP import QSP                     as pQSP\n",
    "from pyLIQTR.QSP.Hamiltonian import Hamiltonian as pyH\n",
    "\n",
    "from pyLIQTR.QSP.gen_qsp import QSP_Simulator\n",
    "from pyLIQTR.QSP.qsp_helpers import get_state_vector, time_step_comparison_mpe\n",
    "\n",
    "###\n",
    "### Imports to support classical simulation of Vlasov-Poisson \n",
    "###\n",
    "# sys.path.append('..')\n",
    " #sys.path.append(os.path.join('..','model_simulators'))\n",
    "\n",
    "import pyLIQTR.model_simulators.vlasovsim as vs        \n",
    "np.set_printoptions(precision=2)\n"
   ]
  },
  {
   "cell_type": "markdown",
   "id": "0e82df9f",
   "metadata": {},
   "source": [
    "<h2>General Problem Setup </h2>\n",
    "\n",
    "Begin by defining the Hamiltonian for the problem, as well as the relevant timestep and simulation time."
   ]
  },
  {
   "cell_type": "code",
   "execution_count": 2,
   "id": "5f21118e",
   "metadata": {},
   "outputs": [
    {
     "name": "stdout",
     "output_type": "stream",
     "text": [
      ":--------------------------------------------------\n",
      ": Initial qubit occ_state projections: [1. 0. 0.]\n"
     ]
    }
   ],
   "source": [
    "###\n",
    "### User Input: Vlasov Equation Parameterization \n",
    "###\n",
    "\n",
    "N      =  3                                    # Number of terms in the Vlasov-Hermite \n",
    "                                               # expansion (equivalent to qubits)\n",
    "\n",
    "k      =  2.0                                  # Fourier wavenumber\n",
    "\n",
    "nu     =  0.0                                  # Collisional damping parameter : \n",
    "                                               # (for use only with statevector propagation)\n",
    "                                               # (SET TO 0 for now, since imag otherwise)\n",
    "\n",
    "alpha  =  0.6                                  # Electric field parameter\n",
    "\n",
    "###\n",
    "### User Input: Simulation Time Parameterization\n",
    "###\n",
    "\n",
    "dt           =  0.1                           # Integration timestep\n",
    "tmax         =  5                             # Maximal timestep\n",
    "sclf         =  1                              # Scale factor for timestep sampling\n",
    "Ns           =  int(np.ceil(tmax/dt))          # Total number of timesteps\n",
    "timestep_vec = np.arange(0,tmax+dt,sclf*dt)    # Define array of timesteps\n",
    "\n",
    "###\n",
    "### User Input: Required Simulation Precision\n",
    "###\n",
    "\n",
    "required_precision = 1e-2\n",
    "\n",
    "#Define the initial state. For this example only occupy the first qubit\n",
    "occ_state = np.zeros(N)\n",
    "occ_state[0] = 1\n",
    "print(':--------------------------------------------------')\n",
    "print(f': Initial qubit occ_state projections: {occ_state}')"
   ]
  },
  {
   "cell_type": "markdown",
   "id": "89560e23",
   "metadata": {},
   "source": [
    "<h2> Gate-based QSP Simulation </h2>\n",
    "\n",
    "Define QSP Hamiltonian and calculate QSP angles. QSP angles take ~6 minutes to generate with default notebook parameters, and ~9 seconds to recall from cache if they've been previously generated.\n",
    "\n",
    "\n",
    "Please note, calculating angles generates signifigant output to screen."
   ]
  },
  {
   "cell_type": "code",
   "execution_count": null,
   "id": "3d328729",
   "metadata": {},
   "outputs": [],
   "source": [
    "ham_strings = vs.hamiltonian_wfn_vlasov_hermite_linear_sym_string(k,alpha,nu,N)\n",
    "qsp_H       = pyH(ham_strings)\n",
    "\n",
    "tmp = [qspFuncs.get_phis(qsp_H, simtime=t, req_prec=required_precision) for t in timestep_vec]\n",
    "\n",
    "\n",
    "tolerances   = [a[1] for a in tmp]\n",
    "angles       = [a[0] for a in tmp]"
   ]
  },
  {
   "cell_type": "markdown",
   "id": "aa5b747c",
   "metadata": {},
   "source": [
    "Define the inital state circuit"
   ]
  },
  {
   "cell_type": "code",
   "execution_count": 4,
   "id": "68b2355c",
   "metadata": {},
   "outputs": [],
   "source": [
    "qsp_generator = pQSP.QSP(phis=angles[1], hamiltonian=qsp_H, target_size=qsp_H.problem_size)\n",
    "\n",
    "initial_state_circuit = cirq.Circuit()\n",
    "\n",
    "# Establish qubit occupancy for inital state of circuit\n",
    "for idx,state in enumerate(occ_state[::-1]):\n",
    "    if state == 1:\n",
    "        initial_state_circuit.append(cirq.X.on(qsp_generator.target[idx]))\n",
    "    else:\n",
    "        initial_state_circuit.append(cirq.I.on(qsp_generator.target[idx]))"
   ]
  },
  {
   "cell_type": "markdown",
   "id": "a5a0a3f8",
   "metadata": {},
   "source": [
    "Perform the QSP Simulation. Please note, with the default notebook parameters this cell takes approximately 12 minutes to run."
   ]
  },
  {
   "cell_type": "code",
   "execution_count": 5,
   "id": "f380ce47",
   "metadata": {},
   "outputs": [],
   "source": [
    "qsp_sim = QSP_Simulator(\n",
    "    timestep_vec = timestep_vec,\n",
    "    angles       = angles,\n",
    "    init_state   = initial_state_circuit,\n",
    "    qsp_H        = qsp_H)\n",
    "\n",
    "sim_results = qsp_sim.do_sim()\n",
    "\n",
    "def measure_obs_cirq(state,obs=vs.przp):\n",
    "    state = get_state_vector(state,lsb_first=False)\n",
    "    exp = np.real(vs.measure_obs_site(state[::-1], obs))[-N:]\n",
    "    return exp\n",
    "\n",
    "observables = []\n",
    "for rslt in sim_results:\n",
    "    observables.append(measure_obs_cirq(rslt)) "
   ]
  },
  {
   "cell_type": "code",
   "execution_count": 6,
   "id": "b4074d25",
   "metadata": {},
   "outputs": [
    {
     "data": {
      "image/png": "[encoded data removed]",
      "text/plain": [
       "<Figure size 432x288 with 1 Axes>"
      ]
     },
     "metadata": {
      "needs_background": "light"
     },
     "output_type": "display_data"
    }
   ],
   "source": [
    "###\n",
    "### Plot qubit population over time\n",
    "###\n",
    "\n",
    "#plt.figure(figsize=(5,5), dpi=300)\n",
    "plt.imshow(np.transpose(np.real(observables)),cmap='viridis', interpolation='nearest',\n",
    "                        aspect=Ns/(3*N))\n",
    "plt.xlabel('Timestep',fontsize=14)\n",
    "plt.ylabel('Qubit Occupancy',fontsize=14)\n",
    "plt.title('QSP Circuit Simulation',fontsize=14)\n",
    "plt.show()"
   ]
  },
  {
   "cell_type": "markdown",
   "id": "1db8ac36",
   "metadata": {},
   "source": [
    "<h2>Direct Classical Simulation </h2>"
   ]
  },
  {
   "cell_type": "markdown",
   "id": "43a7f76c",
   "metadata": {},
   "source": [
    "Construct the classical representation of the wavefunction "
   ]
  },
  {
   "cell_type": "code",
   "execution_count": 7,
   "id": "a25b3ed6",
   "metadata": {},
   "outputs": [],
   "source": [
    "# Initialize the wavefunction\n",
    "wfn = 0j\n",
    "\n",
    "for j in range(N):\n",
    "    if (occ_state[j] == 1):\n",
    "        wfn += vs.state_multifermi_idx((j,),N)\n",
    "\n",
    "wfn  = wfn / la.norm(wfn)\n",
    "wfnp = vs.vectorize_cvec(wfn)"
   ]
  },
  {
   "cell_type": "markdown",
   "id": "386571df",
   "metadata": {},
   "source": [
    "Perform the simulation and plot the projections for each timestep"
   ]
  },
  {
   "cell_type": "code",
   "execution_count": 8,
   "id": "b70ac6b3",
   "metadata": {},
   "outputs": [
    {
     "data": {
      "image/png": "[encoded data removed]",
      "text/plain": [
       "<Figure size 432x288 with 1 Axes>"
      ]
     },
     "metadata": {
      "needs_background": "light"
     },
     "output_type": "display_data"
    }
   ],
   "source": [
    "# hamiltonian for this simulation\n",
    "HP            = vs.hamiltonian_wfn_vlasov_hermite_linear_sym(k,alpha,nu,N)\n",
    "\n",
    "traj_raw_wfn  = spi.odeint(vs.prop_wfn,wfnp,timestep_vec,args=(HP,))\n",
    "traj_proc_wfn = vs.parse_wfn_trajz_pzpj(timestep_vec,traj_raw_wfn)\n",
    "\n",
    "\n",
    "# Visualize the projection over time:\n",
    "#plt.figure(figsize=(5,5), dpi=300)\n",
    "plt.imshow(np.transpose(traj_proc_wfn[:,1:(N+1)].real),cmap='viridis', interpolation='nearest',\n",
    "                        aspect=Ns/(3*N))\n",
    "plt.xlabel('Timestep',fontsize=14)\n",
    "plt.ylabel('Hermite Coeff.',fontsize=14)\n",
    "plt.title('Wavefunction Simulation',fontsize=14)\n",
    "plt.show()\n"
   ]
  },
  {
   "cell_type": "markdown",
   "id": "4b752030",
   "metadata": {},
   "source": [
    "<h2> Perform a comparison </h2>"
   ]
  },
  {
   "cell_type": "code",
   "execution_count": 9,
   "id": "5bfe39fb",
   "metadata": {},
   "outputs": [
    {
     "data": {
      "text/plain": [
       "(1e-06, 10)"
      ]
     },
     "execution_count": 9,
     "metadata": {},
     "output_type": "execute_result"
    },
    {
     "data": {
      "image/png": "[encoded data removed]",
      "text/plain": [
       "<Figure size 720x540 with 1 Axes>"
      ]
     },
     "metadata": {
      "needs_background": "light"
     },
     "output_type": "display_data"
    }
   ],
   "source": [
    "classical  = traj_proc_wfn[:,-N:].real\n",
    "gate_based = observables \n",
    "mpe        = time_step_comparison_mpe(classical, gate_based)\n",
    "\n",
    "epsilon    = required_precision*np.ones(len(gate_based))\n",
    "\n",
    "#plt.figure(figsize=(10/2, 7.5/2), dpi=300)\n",
    "plt.figure(figsize=(10, 7.5))\n",
    "plt.plot(mpe, '.')\n",
    "plt.plot(epsilon, 'r--')\n",
    "plt.title(f'Mean Projection Error for Prec {required_precision:.0E}')\n",
    "plt.xlabel('Timestep')\n",
    "plt.ylabel('Fidelity')\n",
    "plt.yscale('log')\n",
    "plt.ylim([10e-7, 10])\n"
   ]
  }
 ],
 "metadata": {
  "kernelspec": {
   "display_name": "Python 3.8.13 ('cirq_latest')",
   "language": "python",
   "name": "python3"
  },
  "language_info": {
   "codemirror_mode": {
    "name": "ipython",
    "version": 3
   },
   "file_extension": ".py",
   "mimetype": "text/x-python",
   "name": "python",
   "nbconvert_exporter": "python",
   "pygments_lexer": "ipython3",
   "version": "3.8.13"
  },
  "vscode": {
   "interpreter": {
    "hash": "76bf639f83e2fb4e94e272c5ad2d346d147d3a2b90673d942b17f3c25b34edd6"
   }
  }
 },
 "nbformat": 4,
 "nbformat_minor": 5
}
